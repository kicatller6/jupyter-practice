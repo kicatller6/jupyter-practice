{
 "cells": [
  {
   "cell_type": "markdown",
   "metadata": {},
   "source": [
    "## 1.著重於分類的方式\n",
    "ex:圖形辨識\n",
    "圖--->f(x)--->辨識出的文字\n",
    "ex:客戶分析\n",
    "人的資料--->f(x)--->定義客戶\"評價\"的資料表\n",
    "## 2.學函數的兩大方法\n",
    "監督式學習 SVM :歷史資料...>讓機器學習歷史資料，用以區分未來資料 \n",
    "ex:回歸分析、SVM 支持向量機\n",
    "非監督式學習K-Mean...>不知道怎麼分，也不指定分類，只要使用k-mean告訴他分類數，就會讓電腦自動幫你分類，再去觀察用該模型分類出的分類方式有何規律\n",
    "\n",
    "(未來可能會有):深度學習課程"
   ]
  },
  {
   "cell_type": "code",
   "execution_count": null,
   "metadata": {},
   "outputs": [],
   "source": []
  }
 ],
 "metadata": {
  "kernelspec": {
   "display_name": "Python 3",
   "language": "python",
   "name": "python3"
  },
  "language_info": {
   "codemirror_mode": {
    "name": "ipython",
    "version": 3
   },
   "file_extension": ".py",
   "mimetype": "text/x-python",
   "name": "python",
   "nbconvert_exporter": "python",
   "pygments_lexer": "ipython3",
   "version": "3.7.1"
  }
 },
 "nbformat": 4,
 "nbformat_minor": 2
}
