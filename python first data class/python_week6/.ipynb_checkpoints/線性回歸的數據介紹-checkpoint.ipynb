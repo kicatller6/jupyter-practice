{
 "cells": [
  {
   "cell_type": "code",
   "execution_count": 2,
   "metadata": {},
   "outputs": [],
   "source": [
    "%matplotlib inline\n",
    "import numpy as np\n",
    "import matplotlib.pyplot as plt"
   ]
  },
  {
   "cell_type": "markdown",
   "metadata": {},
   "source": [
    "(先做假資料)\n",
    "* 作一條直線\n",
    "* 先來一條線，比如說\n",
    "$f(x) = 1.2x + 0.8 $\n",
    "* 準備好50個點"
   ]
  },
  {
   "cell_type": "code",
   "execution_count": 3,
   "metadata": {},
   "outputs": [],
   "source": [
    "x = np. linspace(0,5,50)\n",
    "y = 1.2*x +0.8"
   ]
  },
  {
   "cell_type": "code",
   "execution_count": 4,
   "metadata": {},
   "outputs": [
    {
     "data": {
      "text/plain": [
       "[<matplotlib.lines.Line2D at 0x1a995860b38>]"
      ]
     },
     "execution_count": 4,
     "metadata": {},
     "output_type": "execute_result"
    },
    {
     "data": {
      "image/png": "[encoded data removed]",
      "text/plain": [
       "<Figure size 432x288 with 1 Axes>"
      ]
     },
     "metadata": {
      "needs_background": "light"
     },
     "output_type": "display_data"
    }
   ],
   "source": [
    "plt.scatter(x,y)   #以此來代表主資料\n",
    "plt.plot(x ,y ,'r')   #代表預測模型"
   ]
  },
  {
   "cell_type": "markdown",
   "metadata": {},
   "source": [
    "### 模擬真實世界的資料，加入noise"
   ]
  },
  {
   "cell_type": "code",
   "execution_count": 5,
   "metadata": {},
   "outputs": [],
   "source": [
    "y = 1.2* x +0.8 + 0.6*np.random.randn(50)"
   ]
  },
  {
   "cell_type": "code",
   "execution_count": 6,
   "metadata": {},
   "outputs": [
    {
     "data": {
      "text/plain": [
       "array([-1.36660221e+00, -7.20138829e-02,  2.77926388e-01, -1.39025380e+00,\n",
       "       -9.62030762e-01,  9.18768131e-01, -1.65795681e+00, -1.36306851e+00,\n",
       "       -3.06124020e-01,  5.80176506e-04,  1.45857130e+00,  2.34417873e+00,\n",
       "        3.53762312e-01, -9.75858821e-01, -1.52909304e+00, -1.34567215e+00,\n",
       "        4.79708539e-01, -5.55699614e-01,  1.24101936e+00, -9.21919701e-01,\n",
       "       -1.95644128e-01,  7.63297502e-01, -1.35588007e+00,  7.02666654e-01,\n",
       "       -1.58071400e+00, -1.49243948e+00, -5.09899871e-02, -6.86860091e-01,\n",
       "        5.46976659e-01,  8.59320166e-01,  1.74831584e+00, -1.71980553e+00,\n",
       "       -1.48597694e+00, -2.81856240e-01,  3.84812585e-01, -7.75313613e-01,\n",
       "       -4.65899823e-01,  2.19908994e-01,  1.38669893e+00,  9.62612014e-01,\n",
       "        1.59615059e+00, -7.50032005e-01,  3.13816973e-01, -1.18809433e-01,\n",
       "       -3.44080847e-01,  3.44354649e-01, -4.32196989e-01,  2.90366697e-01,\n",
       "        2.19616762e+00, -1.09469786e-01])"
      ]
     },
     "execution_count": 6,
     "metadata": {},
     "output_type": "execute_result"
    }
   ],
   "source": [
    "np.random.randn(50)"
   ]
  },
  {
   "cell_type": "code",
   "execution_count": 7,
   "metadata": {},
   "outputs": [
    {
     "data": {
      "text/plain": [
       "[<matplotlib.lines.Line2D at 0x1a995b7dac8>]"
      ]
     },
     "execution_count": 7,
     "metadata": {},
     "output_type": "execute_result"
    },
    {
     "data": {
      "image/png": "[encoded data removed]",
      "text/plain": [
       "<Figure size 432x288 with 1 Axes>"
      ]
     },
     "metadata": {
      "needs_background": "light"
     },
     "output_type": "display_data"
    }
   ],
   "source": [
    "plt.scatter(x,y)\n",
    "plt.plot(x,1.2*x+0.8,'r')"
   ]
  },
  {
   "cell_type": "markdown",
   "metadata": {},
   "source": [
    "下堂目標，可否在只有藍點圖的狀況下找出紅色線性函數"
   ]
  },
  {
   "cell_type": "code",
   "execution_count": 8,
   "metadata": {},
   "outputs": [
    {
     "data": {
      "text/plain": [
       "<matplotlib.collections.PathCollection at 0x1a995c2bf60>"
      ]
     },
     "execution_count": 8,
     "metadata": {},
     "output_type": "execute_result"
    },
    {
     "data": {
      "image/png": "[encoded data removed]",
      "text/plain": [
       "<Figure size 432x288 with 1 Axes>"
      ]
     },
     "metadata": {
      "needs_background": "light"
     },
     "output_type": "display_data"
    }
   ],
   "source": [
    "plt.scatter(x,y)"
   ]
  },
  {
   "cell_type": "code",
   "execution_count": 9,
   "metadata": {
    "scrolled": true
   },
   "outputs": [
    {
     "data": {
      "text/plain": [
       "(array([0.        , 0.10204082, 0.20408163, 0.30612245, 0.40816327,\n",
       "        0.51020408, 0.6122449 , 0.71428571, 0.81632653, 0.91836735,\n",
       "        1.02040816, 1.12244898, 1.2244898 , 1.32653061, 1.42857143,\n",
       "        1.53061224, 1.63265306, 1.73469388, 1.83673469, 1.93877551,\n",
       "        2.04081633, 2.14285714, 2.24489796, 2.34693878, 2.44897959,\n",
       "        2.55102041, 2.65306122, 2.75510204, 2.85714286, 2.95918367,\n",
       "        3.06122449, 3.16326531, 3.26530612, 3.36734694, 3.46938776,\n",
       "        3.57142857, 3.67346939, 3.7755102 , 3.87755102, 3.97959184,\n",
       "        4.08163265, 4.18367347, 4.28571429, 4.3877551 , 4.48979592,\n",
       "        4.59183673, 4.69387755, 4.79591837, 4.89795918, 5.        ]),\n",
       " array([0.60341385, 1.94838984, 1.38286644, 1.39313036, 2.32480045,\n",
       "        1.6244572 , 0.79264098, 1.82245986, 2.72292483, 0.75583116,\n",
       "        2.19544907, 2.44422461, 2.18740127, 3.42062872, 3.02208202,\n",
       "        2.16680452, 2.27501309, 2.52225371, 3.08926107, 3.22308755,\n",
       "        3.42691136, 1.89281234, 3.33170426, 3.47702699, 4.24033883,\n",
       "        5.29050803, 3.45545132, 4.23359224, 4.61547905, 5.44310392,\n",
       "        3.28404037, 5.4249521 , 4.7290251 , 4.92968309, 4.75682741,\n",
       "        4.17414227, 5.41373288, 5.46910388, 5.25664909, 5.40805256,\n",
       "        5.78867861, 6.44227942, 5.09147326, 6.44353652, 6.35774637,\n",
       "        6.61986624, 6.59422473, 7.41658576, 7.10922006, 6.54882012]))"
      ]
     },
     "execution_count": 9,
     "metadata": {},
     "output_type": "execute_result"
    }
   ],
   "source": [
    "x,y    #可看出xy的陣列都是1x50"
   ]
  },
  {
   "cell_type": "code",
   "execution_count": 10,
   "metadata": {},
   "outputs": [],
   "source": [
    "from sklearn.linear_model import LinearRegression"
   ]
  },
  {
   "cell_type": "code",
   "execution_count": 19,
   "metadata": {},
   "outputs": [],
   "source": [
    "regr = LinearRegression()       #套用線性回歸模型"
   ]
  },
  {
   "cell_type": "code",
   "execution_count": 12,
   "metadata": {},
   "outputs": [],
   "source": [
    "X = x.reshape(50,1)          #x改為50x1"
   ]
  },
  {
   "cell_type": "code",
   "execution_count": 13,
   "metadata": {},
   "outputs": [
    {
     "data": {
      "text/plain": [
       "array([0.60341385, 1.94838984, 1.38286644, 1.39313036, 2.32480045,\n",
       "       1.6244572 , 0.79264098, 1.82245986, 2.72292483, 0.75583116,\n",
       "       2.19544907, 2.44422461, 2.18740127, 3.42062872, 3.02208202,\n",
       "       2.16680452, 2.27501309, 2.52225371, 3.08926107, 3.22308755,\n",
       "       3.42691136, 1.89281234, 3.33170426, 3.47702699, 4.24033883,\n",
       "       5.29050803, 3.45545132, 4.23359224, 4.61547905, 5.44310392,\n",
       "       3.28404037, 5.4249521 , 4.7290251 , 4.92968309, 4.75682741,\n",
       "       4.17414227, 5.41373288, 5.46910388, 5.25664909, 5.40805256,\n",
       "       5.78867861, 6.44227942, 5.09147326, 6.44353652, 6.35774637,\n",
       "       6.61986624, 6.59422473, 7.41658576, 7.10922006, 6.54882012])"
      ]
     },
     "execution_count": 13,
     "metadata": {},
     "output_type": "execute_result"
    }
   ],
   "source": [
    "y"
   ]
  },
  {
   "cell_type": "code",
   "execution_count": 20,
   "metadata": {},
   "outputs": [
    {
     "data": {
      "text/plain": [
       "LinearRegression(copy_X=True, fit_intercept=True, n_jobs=None,\n",
       "         normalize=False)"
      ]
     },
     "execution_count": 20,
     "metadata": {},
     "output_type": "execute_result"
    }
   ],
   "source": [
    "regr .fit(X ,y)           #訓練目標模型"
   ]
  },
  {
   "cell_type": "code",
   "execution_count": 15,
   "metadata": {},
   "outputs": [],
   "source": [
    "Y = regr.predict(X)          #regr.predict(X)  相當於使用X做帶入模型的值測試"
   ]
  },
  {
   "cell_type": "code",
   "execution_count": 16,
   "metadata": {},
   "outputs": [
    {
     "data": {
      "text/plain": [
       "[<matplotlib.lines.Line2D at 0x1a99725dc88>]"
      ]
     },
     "execution_count": 16,
     "metadata": {},
     "output_type": "execute_result"
    },
    {
     "data": {
      "image/png": "[encoded data removed]",
      "text/plain": [
       "<Figure size 432x288 with 1 Axes>"
      ]
     },
     "metadata": {
      "needs_background": "light"
     },
     "output_type": "display_data"
    }
   ],
   "source": [
    "plt.scatter(x,y)\n",
    "plt.plot(x, Y,'r')\n",
    "#plt.plot(x,1.2*x+0.8 ,'g')"
   ]
  },
  {
   "cell_type": "code",
   "execution_count": 17,
   "metadata": {},
   "outputs": [
    {
     "data": {
      "text/plain": [
       "array([0.93359115, 1.0543284 , 1.17506565, 1.2958029 , 1.41654015,\n",
       "       1.5372774 , 1.65801465, 1.7787519 , 1.89948915, 2.0202264 ,\n",
       "       2.14096365, 2.2617009 , 2.38243815, 2.5031754 , 2.62391265,\n",
       "       2.7446499 , 2.86538715, 2.9861244 , 3.10686165, 3.2275989 ,\n",
       "       3.34833615, 3.4690734 , 3.58981065, 3.7105479 , 3.83128515,\n",
       "       3.9520224 , 4.07275965, 4.1934969 , 4.31423415, 4.4349714 ,\n",
       "       4.55570865, 4.6764459 , 4.79718315, 4.9179204 , 5.03865765,\n",
       "       5.1593949 , 5.28013215, 5.4008694 , 5.52160665, 5.6423439 ,\n",
       "       5.76308115, 5.8838184 , 6.00455565, 6.1252929 , 6.24603015,\n",
       "       6.3667674 , 6.48750466, 6.60824191, 6.72897916, 6.84971641])"
      ]
     },
     "execution_count": 17,
     "metadata": {},
     "output_type": "execute_result"
    }
   ],
   "source": [
    "Y"
   ]
  },
  {
   "cell_type": "code",
   "execution_count": null,
   "metadata": {},
   "outputs": [],
   "source": []
  }
 ],
 "metadata": {
  "kernelspec": {
   "display_name": "Python 3",
   "language": "python",
   "name": "python3"
  }
 },
 "nbformat": 4,
 "nbformat_minor": 2
}
