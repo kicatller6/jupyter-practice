{
 "cells": [
  {
   "cell_type": "code",
   "execution_count": 1,
   "metadata": {},
   "outputs": [],
   "source": [
    "%matplotlib inline\n",
    "\n",
    "import numpy as np\n",
    "import matplotlib.pyplot as plt\n",
    "import pandas as pd"
   ]
  },
  {
   "cell_type": "code",
   "execution_count": 2,
   "metadata": {},
   "outputs": [],
   "source": [
    "import pandas_datareader.data as web"
   ]
  },
  {
   "cell_type": "code",
   "execution_count": 3,
   "metadata": {},
   "outputs": [],
   "source": [
    "df = web.DataReader(\"AAPL\",\"yahoo\",start = \"2012-9-1\",end = \"2017-8-31\")"
   ]
  },
  {
   "cell_type": "code",
   "execution_count": 4,
   "metadata": {},
   "outputs": [
    {
     "data": {
      "text/html": [
       "<div>\n",
       "<style scoped>\n",
       "    .dataframe tbody tr th:only-of-type {\n",
       "        vertical-align: middle;\n",
       "    }\n",
       "\n",
       "    .dataframe tbody tr th {\n",
       "        vertical-align: top;\n",
       "    }\n",
       "\n",
       "    .dataframe thead th {\n",
       "        text-align: right;\n",
       "    }\n",
       "</style>\n",
       "<table border=\"1\" class=\"dataframe\">\n",
       "  <thead>\n",
       "    <tr style=\"text-align: right;\">\n",
       "      <th></th>\n",
       "      <th>High</th>\n",
       "      <th>Low</th>\n",
       "      <th>Open</th>\n",
       "      <th>Close</th>\n",
       "      <th>Volume</th>\n",
       "      <th>Adj Close</th>\n",
       "    </tr>\n",
       "    <tr>\n",
       "      <th>Date</th>\n",
       "      <th></th>\n",
       "      <th></th>\n",
       "      <th></th>\n",
       "      <th></th>\n",
       "      <th></th>\n",
       "      <th></th>\n",
       "    </tr>\n",
       "  </thead>\n",
       "  <tbody>\n",
       "    <tr>\n",
       "      <th>2012-08-31</th>\n",
       "      <td>95.514282</td>\n",
       "      <td>93.892860</td>\n",
       "      <td>95.321426</td>\n",
       "      <td>95.034286</td>\n",
       "      <td>84580300.0</td>\n",
       "      <td>65.604202</td>\n",
       "    </tr>\n",
       "    <tr>\n",
       "      <th>2012-09-04</th>\n",
       "      <td>96.448570</td>\n",
       "      <td>94.928574</td>\n",
       "      <td>95.108574</td>\n",
       "      <td>96.424286</td>\n",
       "      <td>91973000.0</td>\n",
       "      <td>66.563766</td>\n",
       "    </tr>\n",
       "    <tr>\n",
       "      <th>2012-09-05</th>\n",
       "      <td>96.621429</td>\n",
       "      <td>95.657143</td>\n",
       "      <td>96.510002</td>\n",
       "      <td>95.747147</td>\n",
       "      <td>84093800.0</td>\n",
       "      <td>66.096298</td>\n",
       "    </tr>\n",
       "    <tr>\n",
       "      <th>2012-09-06</th>\n",
       "      <td>96.898575</td>\n",
       "      <td>95.828575</td>\n",
       "      <td>96.167145</td>\n",
       "      <td>96.610001</td>\n",
       "      <td>97799100.0</td>\n",
       "      <td>66.691956</td>\n",
       "    </tr>\n",
       "    <tr>\n",
       "      <th>2012-09-07</th>\n",
       "      <td>97.497147</td>\n",
       "      <td>96.538574</td>\n",
       "      <td>96.864288</td>\n",
       "      <td>97.205711</td>\n",
       "      <td>82416600.0</td>\n",
       "      <td>67.103195</td>\n",
       "    </tr>\n",
       "  </tbody>\n",
       "</table>\n",
       "</div>"
      ],
      "text/plain": [
       "                 High        Low       Open      Close      Volume  Adj Close\n",
       "Date                                                                         \n",
       "2012-08-31  95.514282  93.892860  95.321426  95.034286  84580300.0  65.604202\n",
       "2012-09-04  96.448570  94.928574  95.108574  96.424286  91973000.0  66.563766\n",
       "2012-09-05  96.621429  95.657143  96.510002  95.747147  84093800.0  66.096298\n",
       "2012-09-06  96.898575  95.828575  96.167145  96.610001  97799100.0  66.691956\n",
       "2012-09-07  97.497147  96.538574  96.864288  97.205711  82416600.0  67.103195"
      ]
     },
     "execution_count": 4,
     "metadata": {},
     "output_type": "execute_result"
    }
   ],
   "source": [
    "df.head()"
   ]
  },
  {
   "cell_type": "code",
   "execution_count": 5,
   "metadata": {},
   "outputs": [
    {
     "data": {
      "text/plain": [
       "Date\n",
       "2012-08-31    65.604202\n",
       "2012-09-04    66.563766\n",
       "2012-09-05    66.096298\n",
       "2012-09-06    66.691956\n",
       "2012-09-07    67.103195\n",
       "Name: Adj Close, dtype: float64"
      ]
     },
     "execution_count": 5,
     "metadata": {},
     "output_type": "execute_result"
    }
   ],
   "source": [
    "P = df[\"Adj Close\"]        #調整收盤價\n",
    "P.head()"
   ]
  },
  {
   "cell_type": "code",
   "execution_count": 6,
   "metadata": {},
   "outputs": [
    {
     "data": {
      "text/plain": [
       "<matplotlib.axes._subplots.AxesSubplot at 0x1b2e4aba5c0>"
      ]
     },
     "execution_count": 6,
     "metadata": {},
     "output_type": "execute_result"
    },
    {
     "data": {
      "image/png": "[encoded data removed]",
      "text/plain": [
       "<Figure size 432x288 with 1 Axes>"
      ]
     },
     "metadata": {
      "needs_background": "light"
     },
     "output_type": "display_data"
    }
   ],
   "source": [
    "P.plot()"
   ]
  },
  {
   "cell_type": "code",
   "execution_count": 7,
   "metadata": {},
   "outputs": [
    {
     "data": {
      "text/plain": [
       "Date\n",
       "2012-08-31         NaN\n",
       "2012-09-04    0.959564\n",
       "2012-09-05   -0.467468\n",
       "2012-09-06    0.595657\n",
       "2012-09-07    0.411240\n",
       "2012-09-10   -1.745544\n",
       "2012-09-11   -0.212021\n",
       "2012-09-12    0.907303\n",
       "2012-09-13    1.300743\n",
       "2012-09-14    0.818520\n",
       "2012-09-17    0.838257\n",
       "2012-09-18    0.210075\n",
       "2012-09-19    0.018723\n",
       "2012-09-20   -0.335320\n",
       "2012-09-21    0.137100\n",
       "2012-09-24   -0.917145\n",
       "2012-09-25   -1.701149\n",
       "2012-09-26   -0.824448\n",
       "2012-09-27    1.591667\n",
       "2012-09-28   -1.402313\n",
       "2012-10-01   -0.760345\n",
       "2012-10-02    0.189339\n",
       "2012-10-03    0.999977\n",
       "2012-10-04   -0.458572\n",
       "2012-10-05   -1.401360\n",
       "2012-10-08   -1.422043\n",
       "2012-10-09   -0.228802\n",
       "2012-10-10    0.499008\n",
       "2012-10-11   -1.263298\n",
       "2012-10-12    0.158775\n",
       "                ...   \n",
       "2017-07-21   -0.068436\n",
       "2017-07-24    1.779648\n",
       "2017-07-25    0.635605\n",
       "2017-07-26    0.704041\n",
       "2017-07-27   -2.835754\n",
       "2017-07-28   -1.036499\n",
       "2017-07-31   -0.752945\n",
       "2017-08-01    1.290741\n",
       "2017-08-02    6.932907\n",
       "2017-08-03   -1.535233\n",
       "2017-08-04    0.801834\n",
       "2017-08-07    2.366394\n",
       "2017-08-08    1.241852\n",
       "2017-08-09    0.958282\n",
       "2017-08-10   -5.016403\n",
       "2017-08-11    2.120438\n",
       "2017-08-14    2.326614\n",
       "2017-08-15    1.717911\n",
       "2017-08-16   -0.638092\n",
       "2017-08-17   -3.033371\n",
       "2017-08-18   -0.353424\n",
       "2017-08-21   -0.284668\n",
       "2017-08-22    2.522903\n",
       "2017-08-23    0.196320\n",
       "2017-08-24   -0.696976\n",
       "2017-08-25    0.579163\n",
       "2017-08-28    1.580521\n",
       "2017-08-29    1.413635\n",
       "2017-08-30    0.431946\n",
       "2017-08-31    0.638077\n",
       "Name: Adj Close, Length: 1258, dtype: float64"
      ]
     },
     "execution_count": 7,
     "metadata": {},
     "output_type": "execute_result"
    }
   ],
   "source": [
    "P.diff()"
   ]
  },
  {
   "cell_type": "code",
   "execution_count": 8,
   "metadata": {},
   "outputs": [],
   "source": [
    "r = P.diff()/P"
   ]
  },
  {
   "cell_type": "code",
   "execution_count": 9,
   "metadata": {},
   "outputs": [
    {
     "data": {
      "text/plain": [
       "<matplotlib.axes._subplots.AxesSubplot at 0x1b2e4a23a90>"
      ]
     },
     "execution_count": 9,
     "metadata": {},
     "output_type": "execute_result"
    },
    {
     "data": {
      "image/png": "[encoded data removed]",
      "text/plain": [
       "<Figure size 432x288 with 1 Axes>"
      ]
     },
     "metadata": {
      "needs_background": "light"
     },
     "output_type": "display_data"
    }
   ],
   "source": [
    "r[-100:].plot()"
   ]
  },
  {
   "cell_type": "markdown",
   "metadata": {},
   "source": [
    "## 移動平均"
   ]
  },
  {
   "cell_type": "code",
   "execution_count": 10,
   "metadata": {
    "scrolled": true
   },
   "outputs": [
    {
     "data": {
      "text/plain": [
       "Date\n",
       "2012-08-31           NaN\n",
       "2012-09-04           NaN\n",
       "2012-09-05           NaN\n",
       "2012-09-06           NaN\n",
       "2012-09-07           NaN\n",
       "2012-09-10           NaN\n",
       "2012-09-11           NaN\n",
       "2012-09-12           NaN\n",
       "2012-09-13           NaN\n",
       "2012-09-14           NaN\n",
       "2012-09-17           NaN\n",
       "2012-09-18           NaN\n",
       "2012-09-19           NaN\n",
       "2012-09-20           NaN\n",
       "2012-09-21           NaN\n",
       "2012-09-24           NaN\n",
       "2012-09-25           NaN\n",
       "2012-09-26           NaN\n",
       "2012-09-27           NaN\n",
       "2012-09-28     67.133960\n",
       "2012-10-01     67.105115\n",
       "2012-10-02     67.037759\n",
       "2012-10-03     67.043774\n",
       "2012-10-04     66.997079\n",
       "2012-10-05     66.859753\n",
       "2012-10-08     66.738602\n",
       "2012-10-09     66.616613\n",
       "2012-10-10     66.474208\n",
       "2012-10-11     66.203602\n",
       "2012-10-12     65.900008\n",
       "                 ...    \n",
       "2017-07-21    143.168967\n",
       "2017-07-24    143.453030\n",
       "2017-07-25    143.791362\n",
       "2017-07-26    144.267081\n",
       "2017-07-27    144.498340\n",
       "2017-07-28    144.782891\n",
       "2017-07-31    145.013171\n",
       "2017-08-01    145.333414\n",
       "2017-08-02    145.971455\n",
       "2017-08-03    146.599228\n",
       "2017-08-04    147.196200\n",
       "2017-08-07    147.868466\n",
       "2017-08-08    148.579845\n",
       "2017-08-09    149.328872\n",
       "2017-08-10    149.727827\n",
       "2017-08-11    150.170712\n",
       "2017-08-14    150.704503\n",
       "2017-08-15    151.298764\n",
       "2017-08-16    151.815163\n",
       "2017-08-17    152.213140\n",
       "2017-08-18    152.596867\n",
       "2017-08-21    152.877379\n",
       "2017-08-22    153.252255\n",
       "2017-08-23    153.601746\n",
       "2017-08-24    154.058175\n",
       "2017-08-25    154.595387\n",
       "2017-08-28    155.249273\n",
       "2017-08-29    155.909303\n",
       "2017-08-30    156.244286\n",
       "2017-08-31    156.687933\n",
       "Name: Adj Close, Length: 1258, dtype: float64"
      ]
     },
     "execution_count": 10,
     "metadata": {},
     "output_type": "execute_result"
    }
   ],
   "source": [
    "P.rolling(window =20).mean()"
   ]
  },
  {
   "cell_type": "code",
   "execution_count": 14,
   "metadata": {},
   "outputs": [
    {
     "data": {
      "text/plain": [
       "<matplotlib.axes._subplots.AxesSubplot at 0x1b2e4dce080>"
      ]
     },
     "execution_count": 14,
     "metadata": {},
     "output_type": "execute_result"
    },
    {
     "data": {
      "image/png": "[encoded data removed]",
      "text/plain": [
       "<Figure size 432x288 with 1 Axes>"
      ]
     },
     "metadata": {
      "needs_background": "light"
     },
     "output_type": "display_data"
    }
   ],
   "source": [
    "P.rolling(window =20 ).mean().plot()\n",
    "P.rolling(window =60 ).mean().plot()\n",
    "P.plot()"
   ]
  },
  {
   "cell_type": "code",
   "execution_count": null,
   "metadata": {},
   "outputs": [],
   "source": []
  }
 ],
 "metadata": {
  "kernelspec": {
   "display_name": "Python 3",
   "language": "python",
   "name": "python3"
  },
  "language_info": {
   "codemirror_mode": {
    "name": "ipython",
    "version": 3
   },
   "file_extension": ".py",
   "mimetype": "text/x-python",
   "name": "python",
   "nbconvert_exporter": "python",
   "pygments_lexer": "ipython3",
   "version": "3.7.1"
  }
 },
 "nbformat": 4,
 "nbformat_minor": 2
}
