{
 "cells": [
  {
   "cell_type": "code",
   "execution_count": 1,
   "metadata": {},
   "outputs": [
    {
     "name": "stdout",
     "output_type": "stream",
     "text": [
      "我是拍拍機器人, 0\n",
      ">>ㄅㄅ\n",
      "拍拍 0\n",
      "我是拍拍機器人, 1\n",
      ">>ㄆㄆ\n",
      "拍拍 1\n",
      "我是拍拍機器人, 2\n",
      ">>ㄇㄇ\n",
      "拍拍 2\n",
      "我是拍拍機器人, 3\n",
      ">>3\n",
      "拍拍 3\n",
      "我是拍拍機器人, 4\n",
      ">>3\n",
      "拍拍 4\n",
      "我是拍拍機器人, 5\n",
      ">>3\n",
      "拍拍 5\n",
      "我是拍拍機器人, 6\n",
      ">>3\n",
      "拍拍 6\n",
      "我是拍拍機器人, 7\n",
      ">>3\n",
      "拍拍 7\n",
      "我是拍拍機器人, 8\n",
      ">>3\n",
      "拍拍 8\n",
      "我是拍拍機器人, 9\n",
      ">>3\n",
      "拍拍 9\n"
     ]
    }
   ],
   "source": [
    "s = 0\n",
    "while s<10:\n",
    "    print('我是拍拍機器人,',s)\n",
    "    input('>>')\n",
    "    print('拍拍',s)\n",
    "    s+=1"
   ]
  },
  {
   "cell_type": "code",
   "execution_count": null,
   "metadata": {},
   "outputs": [],
   "source": []
  }
 ],
 "metadata": {
  "kernelspec": {
   "display_name": "Python 3",
   "language": "python",
   "name": "python3"
  },
  "language_info": {
   "codemirror_mode": {
    "name": "ipython",
    "version": 3
   },
   "file_extension": ".py",
   "mimetype": "text/x-python",
   "name": "python",
   "nbconvert_exporter": "python",
   "pygments_lexer": "ipython3",
   "version": "3.7.1"
  }
 },
 "nbformat": 4,
 "nbformat_minor": 2
}
