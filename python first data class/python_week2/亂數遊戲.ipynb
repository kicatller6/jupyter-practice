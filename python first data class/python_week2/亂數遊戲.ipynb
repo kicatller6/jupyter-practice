{
 "cells": [
  {
   "cell_type": "code",
   "execution_count": 1,
   "metadata": {},
   "outputs": [
    {
     "name": "stdout",
     "output_type": "stream",
     "text": [
      "Populating the interactive namespace from numpy and matplotlib\n"
     ]
    }
   ],
   "source": [
    "%pylab inline"
   ]
  },
  {
   "cell_type": "code",
   "execution_count": 5,
   "metadata": {},
   "outputs": [
    {
     "data": {
      "text/plain": [
       "10"
      ]
     },
     "execution_count": 5,
     "metadata": {},
     "output_type": "execute_result"
    }
   ],
   "source": [
    "randint(3,21)               #實際上是使用[3,20)的範圍"
   ]
  },
  {
   "cell_type": "code",
   "execution_count": 18,
   "metadata": {},
   "outputs": [
    {
     "name": "stdout",
     "output_type": "stream",
     "text": [
      "1\n",
      "1\n",
      "4\n",
      "2\n",
      "0\n",
      "1\n"
     ]
    }
   ],
   "source": [
    "answer = randint(5)\n",
    "\n",
    "for i in range(0,6):\n",
    "    answer = randint(5)\n",
    "    print(answer)"
   ]
  },
  {
   "cell_type": "code",
   "execution_count": 26,
   "metadata": {},
   "outputs": [
    {
     "name": "stdout",
     "output_type": "stream",
     "text": [
      "請猜數字,範圍是15到77 :40\n",
      "請猜數字,範圍是40到77 :30\n",
      "you have to guess in that range!\n",
      "請猜數字,範圍是40到77 :45\n",
      "請猜數字,範圍是40到45 :43\n",
      "請猜數字,範圍是40到43 :42\n",
      "請猜數字,範圍是40到42 :41\n",
      "you get the right answer!!\n"
     ]
    }
   ],
   "source": [
    "answer_r1 = randint(0,25)\n",
    "answer_r2 = randint(50,100)\n",
    "answer_r = randint(answer_r1,answer_r2)\n",
    "y = 0\n",
    "while y == 0:\n",
    "    guess = int(input('請猜數字,範圍是{}到{} :'.format(answer_r1,answer_r2)))\n",
    "    if guess == answer_r:\n",
    "        y=1\n",
    "        print('you get the right answer!!')\n",
    "    elif  (guess > answer_r)&(guess < answer_r2)  :\n",
    "        answer_r2 = guess\n",
    "    elif  (guess < answer_r) & (guess > answer_r1):\n",
    "        answer_r1 = guess\n",
    "    else:\n",
    "        print('you have to guess in that range!')"
   ]
  },
  {
   "cell_type": "code",
   "execution_count": null,
   "metadata": {},
   "outputs": [],
   "source": []
  }
 ],
 "metadata": {
  "kernelspec": {
   "display_name": "Python 3",
   "language": "python",
   "name": "python3"
  },
  "language_info": {
   "codemirror_mode": {
    "name": "ipython",
    "version": 3
   },
   "file_extension": ".py",
   "mimetype": "text/x-python",
   "name": "python",
   "nbconvert_exporter": "python",
   "pygments_lexer": "ipython3",
   "version": "3.7.1"
  }
 },
 "nbformat": 4,
 "nbformat_minor": 2
}
