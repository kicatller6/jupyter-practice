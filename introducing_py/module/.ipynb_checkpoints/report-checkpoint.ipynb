{
 "cells": [
  {
   "cell_type": "code",
   "execution_count": 1,
   "metadata": {},
   "outputs": [
    {
     "name": "stdout",
     "output_type": "stream",
     "text": [
      "Program argument ['C:\\\\Users\\\\PanHu\\\\Anaconda3\\\\lib\\\\site-packages\\\\ipykernel_launcher.py', '-f', 'C:\\\\Users\\\\PanHu\\\\AppData\\\\Roaming\\\\jupyter\\\\runtime\\\\kernel-3d580c67-4e8d-432e-8887-6b0602f15082.json']\n"
     ]
    }
   ],
   "source": [
    "def get_description():\n",
    "    '''Return random weather, just like the pros'''\n",
    "    from random import choice\n",
    "    possibilities = ['rain','snow','sleet','fog','sun','who knows']\n",
    "    return choice(possibilities)"
   ]
  },
  {
   "cell_type": "code",
   "execution_count": null,
   "metadata": {},
   "outputs": [],
   "source": []
  }
 ],
 "metadata": {
  "kernelspec": {
   "display_name": "Python 3",
   "language": "python",
   "name": "python3"
  },
  "language_info": {
   "codemirror_mode": {
    "name": "ipython",
    "version": 3
   },
   "file_extension": ".py",
   "mimetype": "text/x-python",
   "name": "python",
   "nbconvert_exporter": "python",
   "pygments_lexer": "ipython3",
   "version": "3.7.1"
  }
 },
 "nbformat": 4,
 "nbformat_minor": 2
}
