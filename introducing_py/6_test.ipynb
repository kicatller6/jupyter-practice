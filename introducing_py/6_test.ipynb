{
 "cells": [
  {
   "cell_type": "code",
   "execution_count": 1,
   "metadata": {},
   "outputs": [
    {
     "name": "stdout",
     "output_type": "stream",
     "text": [
      "<class '__main__.Thing'>\n",
      "<__main__.Thing object at 0x000001D9E204FC88>\n"
     ]
    }
   ],
   "source": [
    "#6.1\n",
    "class Thing():\n",
    "    pass\n",
    "example = Thing()\n",
    "print(Thing)\n",
    "print(example)"
   ]
  },
  {
   "cell_type": "code",
   "execution_count": 4,
   "metadata": {},
   "outputs": [
    {
     "name": "stdout",
     "output_type": "stream",
     "text": [
      "abc\n"
     ]
    }
   ],
   "source": [
    "#6.2\n",
    "class Thing2():\n",
    "    letters = 'abc'\n",
    "print(Thing2.letters)"
   ]
  },
  {
   "cell_type": "code",
   "execution_count": 6,
   "metadata": {},
   "outputs": [
    {
     "name": "stdout",
     "output_type": "stream",
     "text": [
      "xyz\n"
     ]
    }
   ],
   "source": [
    "#6.3\n",
    "class Thing3():\n",
    "    def __init__(self):\n",
    "        self.letters = 'xyz'\n",
    "example3 = Thing3()\n",
    "print(example3.letters)"
   ]
  },
  {
   "cell_type": "code",
   "execution_count": 7,
   "metadata": {},
   "outputs": [],
   "source": [
    "#6.4\n",
    "class Element():\n",
    "    def __init__(self,name,symbol,number):\n",
    "        self.name = name\n",
    "        self.symbol = symbol\n",
    "        self.number = number\n",
    "something = Element('Hydrogen','H',1)"
   ]
  },
  {
   "cell_type": "code",
   "execution_count": 2,
   "metadata": {},
   "outputs": [],
   "source": [
    "#6.5\n",
    "H = {'name':'Hydrogen','symbol':'H','number':1}\n",
    "hydrogen = Element(**H)"
   ]
  },
  {
   "cell_type": "code",
   "execution_count": 12,
   "metadata": {},
   "outputs": [
    {
     "name": "stdout",
     "output_type": "stream",
     "text": [
      "name: Hydrogen symbol H number 1\n"
     ]
    }
   ],
   "source": [
    "#6.6\n",
    "class Element():\n",
    "    def __init__(self,name,symbol,number):\n",
    "        self.name = name\n",
    "        self.symbol = symbol\n",
    "        self.number = number\n",
    "    def dump(self):\n",
    "        print('name:',self.name,\n",
    "             'symbol:',self.symbol,\n",
    "             'number:',self.number)\n",
    "hydrogen = Element(**H)\n",
    "hydrogen.dump()"
   ]
  },
  {
   "cell_type": "code",
   "execution_count": 26,
   "metadata": {},
   "outputs": [
    {
     "name": "stdout",
     "output_type": "stream",
     "text": [
      "name:Hydrogen symbol:H number:1 \n"
     ]
    }
   ],
   "source": [
    "#6.7\n",
    "class Element():\n",
    "    def __init__(self,name,symbol,number):\n",
    "        self.name = name\n",
    "        self.symbol = symbol\n",
    "        self.number = number\n",
    "    def __str__(self):\n",
    "        return ('name:%s symbol:%s number:%s '\n",
    "                %(self.name,self.symbol,self.number))\n",
    " #字串格式化            \n",
    "             \n",
    "hydrogen = Element(**H)\n",
    "print(hydrogen)"
   ]
  },
  {
   "cell_type": "code",
   "execution_count": 3,
   "metadata": {},
   "outputs": [
    {
     "name": "stdout",
     "output_type": "stream",
     "text": [
      "name:Hydrogen symbol:H number:1 \n",
      "Hydrogen\n",
      "H\n",
      "1\n"
     ]
    }
   ],
   "source": [
    "#6.8\n",
    "class Element():\n",
    "    def __init__(self,name,symbol,number):\n",
    "        self.__name = name\n",
    "        self.__symbol = symbol\n",
    "        self.__number = number\n",
    "    def __str__(self):\n",
    "        return ('name:%s symbol:%s number:%s '\n",
    "                %(self.__name,self.__symbol,self.__number))\n",
    "    @property\n",
    "    def name(self):\n",
    "        return self.__name\n",
    "    @property\n",
    "    def symbol(self):\n",
    "        return self.__symbol\n",
    "    @property\n",
    "    def number(self):\n",
    "        return self.__number\n",
    "H = {'name':'Hydrogen','symbol':'H','number':1}\n",
    "hydrogen = Element(**H)\n",
    "print(hydrogen)\n",
    "print(hydrogen.name)\n",
    "print(hydrogen.symbol)\n",
    "print(hydrogen.number)\n"
   ]
  },
  {
   "cell_type": "code",
   "execution_count": 4,
   "metadata": {},
   "outputs": [
    {
     "name": "stdout",
     "output_type": "stream",
     "text": [
      "berries\n",
      "clover\n",
      "campers\n"
     ]
    }
   ],
   "source": [
    "#6.9\n",
    "class Bear():\n",
    "    def eats(self):\n",
    "        return 'berries'\n",
    "class Rabbit():\n",
    "    def eats(self):\n",
    "        return 'clover'\n",
    "class Octothorpe():\n",
    "    def eats(self):\n",
    "        return 'campers'\n",
    "B =Bear()\n",
    "R = Rabbit()\n",
    "O =Octothorpe()\n",
    "print(B.eats())\n",
    "print(R.eats())\n",
    "print(O.eats())"
   ]
  },
  {
   "cell_type": "code",
   "execution_count": 11,
   "metadata": {},
   "outputs": [
    {
     "name": "stdout",
     "output_type": "stream",
     "text": [
      "lazar does distintegrate, claw does crush, smartphone does ring\n"
     ]
    }
   ],
   "source": [
    "#6.10\n",
    "class Lasar():\n",
    "    def does(self):\n",
    "        return 'distintegrate'\n",
    "class Claw():\n",
    "    def does(self):\n",
    "        return 'crush'\n",
    "class SmartPhone():\n",
    "    def does(self):\n",
    "        return 'ring'\n",
    "class Robot():\n",
    "    def __init__(self,lazar,claw,smart):\n",
    "        self.lazar =lazar\n",
    "        self.claw = claw\n",
    "        self.smart = smart\n",
    "    def does(self):\n",
    "        print('lazar does %s, claw does %s, smartphone does %s'\n",
    "              %(self.lazar.does(),self.claw.does(),self.smart.does()))\n",
    "lazar = Lasar()\n",
    "claw = Claw()\n",
    "smart = SmartPhone()\n",
    "robot = Robot(lazar,claw,smart)\n",
    "robot.does()"
   ]
  },
  {
   "cell_type": "code",
   "execution_count": null,
   "metadata": {},
   "outputs": [],
   "source": []
  }
 ],
 "metadata": {
  "kernelspec": {
   "display_name": "Python 3",
   "language": "python",
   "name": "python3"
  },
  "language_info": {
   "codemirror_mode": {
    "name": "ipython",
    "version": 3
   },
   "file_extension": ".py",
   "mimetype": "text/x-python",
   "name": "python",
   "nbconvert_exporter": "python",
   "pygments_lexer": "ipython3",
   "version": "3.7.1"
  }
 },
 "nbformat": 4,
 "nbformat_minor": 2
}
