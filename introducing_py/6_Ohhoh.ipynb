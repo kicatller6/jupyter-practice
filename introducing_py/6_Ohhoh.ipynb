{
 "cells": [
  {
   "cell_type": "markdown",
   "metadata": {},
   "source": [
    "#### 沒有物件是神祕的，神秘的是你的眼睛\n",
    "#### 拿起一個物件，對他做些事情，在對他做其他的事情"
   ]
  },
  {
   "cell_type": "code",
   "execution_count": 2,
   "metadata": {},
   "outputs": [],
   "source": [
    "class person():\n",
    "    def __init__(self,name):\n",
    "        self.name = name\n",
    "someone = person('Mr.a')"
   ]
  },
  {
   "cell_type": "code",
   "execution_count": 4,
   "metadata": {},
   "outputs": [
    {
     "name": "stdout",
     "output_type": "stream",
     "text": [
      "Mr.a\n"
     ]
    }
   ],
   "source": [
    "print(someone.name)"
   ]
  },
  {
   "cell_type": "markdown",
   "metadata": {},
   "source": [
    "#### 繼承  inherit\n",
    "* 父 parrent 超類別、 super class 、基礎類別 base class\n",
    "* 子系 child 子類別、 sub class 衍生類別 、derived class"
   ]
  },
  {
   "cell_type": "code",
   "execution_count": 16,
   "metadata": {},
   "outputs": [],
   "source": [
    "class Car():\n",
    "    def exclaim(self):\n",
    "        print('I\\'m a car.')\n",
    "class Yugo(Car):\n",
    "    def exclaim(self):  #覆寫\n",
    "        print('I\\'m a yogo!Much like a car, but more yogo-ish.')\n",
    "    def need_a_push(self):  #在子類別新增方法\n",
    "        print('A littke help here?')\n",
    "        "
   ]
  },
  {
   "cell_type": "code",
   "execution_count": 13,
   "metadata": {},
   "outputs": [
    {
     "name": "stdout",
     "output_type": "stream",
     "text": [
      "I'm a car.\n",
      "I'm a yogo!Much like a car, but more yogo-ish.\n"
     ]
    }
   ],
   "source": [
    "# Yugo is a car\n",
    "a_yogo = Yugo()\n",
    "a_car = Car()\n",
    "a_car.exclaim()\n",
    "a_yogo.exclaim()"
   ]
  },
  {
   "cell_type": "code",
   "execution_count": 14,
   "metadata": {},
   "outputs": [],
   "source": [
    "class Person():\n",
    "    def __init__(self,name):\n",
    "        self.name = name\n",
    "class MDPerson(Person):  #初始化的覆寫\n",
    "    def __init__(self,name):\n",
    "        self.name = 'Doctor'+ name\n",
    "class JDPerson(Person):\n",
    "    def __init__(self,name):\n",
    "        self.name = 'Esquire' + name\n",
    "class EmailPerson(Person):\n",
    "    def __init__(self,name,email):\n",
    "        super().__init__(name)  #這種定義方式可以確保以後覆類別的更改可以反映到子類別身上\n",
    "            self.email = email"
   ]
  },
  {
   "cell_type": "code",
   "execution_count": 18,
   "metadata": {},
   "outputs": [
    {
     "name": "stdout",
     "output_type": "stream",
     "text": [
      "I'm a car.\n"
     ]
    }
   ],
   "source": [
    "#python在背後做的事:將物件a_car當成self參數傳給Car類別的exclaim方法\n",
    "#所以你也可以這樣呼叫\n",
    "Car.exclaim(a_car)"
   ]
  },
  {
   "cell_type": "code",
   "execution_count": 19,
   "metadata": {},
   "outputs": [
    {
     "name": "stdout",
     "output_type": "stream",
     "text": [
      "inside the getter\n",
      "Howard\n"
     ]
    }
   ],
   "source": [
    "#保持物件屬性的私用，讓人不能隨意存取他\n",
    "class Duck ():\n",
    "    def __init__(self,input_name):\n",
    "        self.hidden_name = input_name\n",
    "    def get_name(self):\n",
    "        print('inside the getter')\n",
    "        return self.hidden_name\n",
    "    def set_name(self,input_name):\n",
    "        print('inside the setter')\n",
    "        self.hidden_name = input_name\n",
    "    name = property(get_name,set_name)  \n",
    "\n",
    "fowl = Duck('Howard')\n",
    "print(fowl.name)\n",
    "    "
   ]
  },
  {
   "cell_type": "code",
   "execution_count": 20,
   "metadata": {},
   "outputs": [
    {
     "name": "stdout",
     "output_type": "stream",
     "text": [
      "inside the setter\n",
      "inside the getter\n"
     ]
    },
    {
     "data": {
      "text/plain": [
       "'Daffy'"
      ]
     },
     "execution_count": 20,
     "metadata": {},
     "output_type": "execute_result"
    }
   ],
   "source": [
    "fowl.name = 'Daffy'\n",
    "fowl.name"
   ]
  },
  {
   "cell_type": "markdown",
   "metadata": {},
   "source": [
    "#### 使用裝飾器定義特性\n",
    "* @property 在getter的方法之前\n",
    "* @name.setter 在setter的方法之前"
   ]
  },
  {
   "cell_type": "code",
   "execution_count": 23,
   "metadata": {},
   "outputs": [],
   "source": [
    "class DuckDuck ():\n",
    "    def __init__(self,input_name):\n",
    "        self.hidden_name = input_name\n",
    "    @property\n",
    "    def name(self):\n",
    "        print('inside the getter')\n",
    "        return self.hidden_name\n",
    "    @name.setter\n",
    "    def name(self,input_name):\n",
    "        print('inside the setter')\n",
    "        self.hidden_name = input_name"
   ]
  },
  {
   "cell_type": "code",
   "execution_count": 26,
   "metadata": {},
   "outputs": [
    {
     "name": "stdout",
     "output_type": "stream",
     "text": [
      "inside the getter\n",
      "Howard\n",
      "inside the setter\n",
      "inside the getter\n"
     ]
    },
    {
     "data": {
      "text/plain": [
       "'Mr.A'"
      ]
     },
     "execution_count": 26,
     "metadata": {},
     "output_type": "execute_result"
    }
   ],
   "source": [
    "fancy = DuckDuck('Howard')\n",
    "print(fancy.name)\n",
    "fancy.name = 'Mr.A'\n",
    "fancy.name"
   ]
  },
  {
   "cell_type": "markdown",
   "metadata": {},
   "source": [
    "#### python 的私用屬性命名方式"
   ]
  },
  {
   "cell_type": "code",
   "execution_count": 32,
   "metadata": {},
   "outputs": [
    {
     "name": "stdout",
     "output_type": "stream",
     "text": [
      "5\n",
      "10\n"
     ]
    }
   ],
   "source": [
    "class Circle():\n",
    "    def __init__(self,radius):\n",
    "        self.radius = radius\n",
    "    @property\n",
    "    def diameter(self):\n",
    "        return self.radius*2\n",
    "c = Circle(5)\n",
    "print(c.radius)\n",
    "print(c.diameter)\n",
    "#c.diameter = 18 #沒有設定setter所以不能做出更改"
   ]
  },
  {
   "cell_type": "code",
   "execution_count": 39,
   "metadata": {},
   "outputs": [],
   "source": [
    "class Duck():\n",
    "    def __init__(self,input_name):\n",
    "        self.__name =input_name\n",
    "    @property\n",
    "    def name(self):\n",
    "        print('inside the getter')\n",
    "        return self.__name\n",
    "    @name.setter\n",
    "    def name(self,input_name):\n",
    "        print('insidr the setter')\n",
    "        self.__name = input_name    "
   ]
  },
  {
   "cell_type": "code",
   "execution_count": 40,
   "metadata": {},
   "outputs": [
    {
     "name": "stdout",
     "output_type": "stream",
     "text": [
      "inside the getter\n",
      "Howard\n",
      "insidr the setter\n",
      "inside the getter\n"
     ]
    },
    {
     "data": {
      "text/plain": [
       "'Donald'"
      ]
     },
     "execution_count": 40,
     "metadata": {},
     "output_type": "execute_result"
    }
   ],
   "source": [
    "#check\n",
    "a_duck = Duck('Howard')\n",
    "print(a_duck.name)\n",
    "a_duck.name = 'Donald'\n",
    "a_duck.name"
   ]
  },
  {
   "cell_type": "code",
   "execution_count": 43,
   "metadata": {},
   "outputs": [
    {
     "name": "stdout",
     "output_type": "stream",
     "text": [
      "inside the getter\n"
     ]
    },
    {
     "data": {
      "text/plain": [
       "'A duck'"
      ]
     },
     "execution_count": 43,
     "metadata": {},
     "output_type": "execute_result"
    }
   ],
   "source": [
    "a_duck._Duck__name=\"A duck\"   #存取的格式\n",
    "a_duck.name"
   ]
  },
  {
   "cell_type": "code",
   "execution_count": 44,
   "metadata": {},
   "outputs": [],
   "source": [
    "#類別方法\n",
    "class A():\n",
    "    count = 0\n",
    "    def __init__(self):\n",
    "        A.count += 1   #使用類別屬性 而不是self.count實例屬性\n",
    "    def exclaim(self):\n",
    "        print('I\\'m a A')\n",
    "    @classmethod\n",
    "    def kids(cls):\n",
    "        print(\"A has \",cls.count,\"little objects.\")"
   ]
  },
  {
   "cell_type": "code",
   "execution_count": 45,
   "metadata": {},
   "outputs": [
    {
     "name": "stdout",
     "output_type": "stream",
     "text": [
      "A has  3 little objects.\n"
     ]
    }
   ],
   "source": [
    "easy_a =A()\n",
    "breezy_a =A()\n",
    "wheezy_a =A()\n",
    "A.kids()"
   ]
  },
  {
   "cell_type": "code",
   "execution_count": 46,
   "metadata": {},
   "outputs": [
    {
     "name": "stdout",
     "output_type": "stream",
     "text": [
      "This CoyoteWeapen has been brought to you by Acme\n"
     ]
    }
   ],
   "source": [
    "class CoyoteWeapen():\n",
    "    @staticmethod  #靜態方法:不用製造實例物件就可以存取的方法\n",
    "    def commercial():\n",
    "        print('This CoyoteWeapen has been brought to you by Acme')\n",
    "CoyoteWeapen.commercial()"
   ]
  },
  {
   "cell_type": "markdown",
   "metadata": {},
   "source": [
    "### 多型 Duck Typing\n",
    "#### 如果他走路的樣子像鴨子，且叫聲像鴨子，那他就是隻鴨子"
   ]
  },
  {
   "cell_type": "code",
   "execution_count": 48,
   "metadata": {},
   "outputs": [],
   "source": [
    "class Quote():\n",
    "    def __init__(self,person,words):\n",
    "        self.person =person\n",
    "        self.words = words\n",
    "    def who (self):\n",
    "        return self.person\n",
    "    def says(self):\n",
    "        return self.words+'.'\n",
    "class QuestionQuote(Quote):\n",
    "    def says(self):\n",
    "        return self.words+'?'\n",
    "class ExclaimtionQuote(Quote):\n",
    "    def says(self):\n",
    "        return self.words+'!'"
   ]
  },
  {
   "cell_type": "code",
   "execution_count": 50,
   "metadata": {},
   "outputs": [
    {
     "name": "stdout",
     "output_type": "stream",
     "text": [
      "Elmer Fudd says I'm hunting wabbits.\n"
     ]
    }
   ],
   "source": [
    "hunter = Quote('Elmer Fudd','I\\'m hunting wabbits')\n",
    "print(hunter.who(),'says',hunter.says())"
   ]
  },
  {
   "cell_type": "code",
   "execution_count": 51,
   "metadata": {},
   "outputs": [
    {
     "name": "stdout",
     "output_type": "stream",
     "text": [
      "Bugs Bunny says What's up, doc?\n"
     ]
    }
   ],
   "source": [
    "hunted = QuestionQuote('Bugs Bunny','What\\'s up, doc')\n",
    "print(hunted.who(),'says',hunted.says())"
   ]
  },
  {
   "cell_type": "code",
   "execution_count": 52,
   "metadata": {},
   "outputs": [
    {
     "name": "stdout",
     "output_type": "stream",
     "text": [
      "Daffy Duck says It's rabbit season!\n"
     ]
    }
   ],
   "source": [
    "hunted2 = ExclaimtionQuote('Daffy Duck','It\\'s rabbit season')\n",
    "print(hunted2.who(),'says',hunted2.says())"
   ]
  },
  {
   "cell_type": "code",
   "execution_count": 54,
   "metadata": {},
   "outputs": [
    {
     "name": "stdout",
     "output_type": "stream",
     "text": [
      "Elmer Fudd says I'm hunting wabbits.\n",
      "Bugs Bunny says What's up, doc?\n",
      "Daffy Duck says It's rabbit season!\n",
      "Brook says Babble\n"
     ]
    }
   ],
   "source": [
    "class BabbingBrook():\n",
    "    def who(self):\n",
    "        return 'Brook'\n",
    "    def says(self):\n",
    "        return \"Babble\"\n",
    "brook = BabbingBrook()\n",
    "def who_says(obj):\n",
    "    print(obj.who(),'says',obj.says())\n",
    "\n",
    "who_says(hunter)\n",
    "who_says(hunted)\n",
    "who_says(hunted2)\n",
    "who_says(brook)"
   ]
  },
  {
   "cell_type": "markdown",
   "metadata": {},
   "source": [
    "#### 特殊方法，深入使用物件\n",
    "* __eq__(self,other): self == other\n",
    "* __ne__(self,other): self != other\n",
    "* __lt__(self,other): self < other\n",
    "* __gt__(self,other): self > other\n",
    "* __le__(self,other): self <= other\n",
    "* __ge__(self,other): self >= other\n",
    "\n",
    "etc..."
   ]
  },
  {
   "cell_type": "code",
   "execution_count": 58,
   "metadata": {},
   "outputs": [
    {
     "name": "stdout",
     "output_type": "stream",
     "text": [
      "True\n",
      "False\n"
     ]
    }
   ],
   "source": [
    "class Word():\n",
    "    def __init__(self,text):\n",
    "        self.text = text\n",
    "    def equals(self,word2):\n",
    "        return self.text.lower() == word2.text.lower()\n",
    "first = Word('ha')\n",
    "second = Word('HA')\n",
    "third = Word('eh')\n",
    "print(first.equals(second))\n",
    "print(first.equals(third))"
   ]
  },
  {
   "cell_type": "code",
   "execution_count": 60,
   "metadata": {},
   "outputs": [
    {
     "name": "stdout",
     "output_type": "stream",
     "text": [
      "True\n",
      "False\n"
     ]
    }
   ],
   "source": [
    "#製作特殊方法\n",
    "class Word():\n",
    "    def __init__(self,text):\n",
    "        self.text = text\n",
    "    def __eq__(self,word2):\n",
    "        return self.text.lower() == word2.text.lower()\n",
    "first = Word('ha')\n",
    "second = Word('HA')\n",
    "third = Word('eh')\n",
    "print(first == second)\n",
    "print(first == third)"
   ]
  },
  {
   "cell_type": "code",
   "execution_count": 61,
   "metadata": {},
   "outputs": [
    {
     "name": "stdout",
     "output_type": "stream",
     "text": [
      "Ha\n"
     ]
    },
    {
     "data": {
      "text/plain": [
       "Word(Ha)"
      ]
     },
     "execution_count": 61,
     "metadata": {},
     "output_type": "execute_result"
    }
   ],
   "source": [
    "class Word():\n",
    "    def __init__(self,text):\n",
    "        self.text = text\n",
    "    def __eq__(self,word2):\n",
    "        return self.text.lower() == word2.text.lower()\n",
    "    def __str__(self):\n",
    "        return self.text\n",
    "    def __repr__(self):\n",
    "        return 'Word('+ self.text +')'\n",
    "first = Word('Ha')\n",
    "print(first)   #use str\n",
    "first   #use repr"
   ]
  },
  {
   "cell_type": "markdown",
   "metadata": {},
   "source": [
    "#### 組合 composition\n",
    "#### 聚合 aggregation"
   ]
  },
  {
   "cell_type": "code",
   "execution_count": 81,
   "metadata": {},
   "outputs": [],
   "source": [
    "class Bill():\n",
    "    def __init__(self,description):\n",
    "        self.description = description\n",
    "class Tail():\n",
    "    def __init__(self,length):\n",
    "        self.length = length\n",
    "class Duck(): \n",
    "    def __init__(self,bill,tail):\n",
    "        self.bill = bill\n",
    "        self.tail = tail\n",
    "    def about(self):\n",
    "        print('This duck has a',self.bill.description,'bill and a',self.tail.length,'tail.')\n",
    "        \n",
    "tail = Tail('long')\n",
    "bill = Bill('wide orange')\n",
    "duck = Duck(bill,tail)\n",
    "#duck.about()"
   ]
  },
  {
   "cell_type": "code",
   "execution_count": 82,
   "metadata": {},
   "outputs": [
    {
     "name": "stdout",
     "output_type": "stream",
     "text": [
      "This duck has a wide orange bill and a long tail.\n"
     ]
    }
   ],
   "source": [
    "duck.about()"
   ]
  },
  {
   "cell_type": "markdown",
   "metadata": {},
   "source": [
    "#### 使用類別與物件 v.s. 模組的時機\n",
    "* 當你需要許多實例，且令他們擁有不同的行為，但內部的狀態不同，物件是最實用的\n",
    "* 類別可繼承 模組不行\n",
    "* 某個東西你只需要一個，模組可能是最好的選擇 參考singleton\n",
    "* 如果你有許多變數，裡面有許多值，且這些值可以當成引數分別傳出(類似setter getter)，定義為類別會比較易於操作\n",
    "* 用最簡單的方式解決問題 字典 tuple 都比模組簡單 小 且更快 而模組通常比類別簡單"
   ]
  },
  {
   "cell_type": "markdown",
   "metadata": {},
   "source": [
    "#### 試試具名tuple\n",
    "具名tuple 是一種tuple的子類別 其中 你可以用名稱 以及位置來存取值"
   ]
  },
  {
   "cell_type": "code",
   "execution_count": 88,
   "metadata": {},
   "outputs": [],
   "source": [
    "#轉換剛剛用過的Duck為具名tuple\n",
    "from collections import namedtuple\n",
    "Duck = namedtuple('Duck','bill tail') #從此之後就能利用Duck這個名稱製作具名tuple\n",
    "duck = Duck('wide orange','long')"
   ]
  },
  {
   "cell_type": "code",
   "execution_count": 89,
   "metadata": {},
   "outputs": [
    {
     "data": {
      "text/plain": [
       "Duck(bill='wide orange', tail='long')"
      ]
     },
     "execution_count": 89,
     "metadata": {},
     "output_type": "execute_result"
    }
   ],
   "source": [
    "duck"
   ]
  },
  {
   "cell_type": "code",
   "execution_count": 90,
   "metadata": {},
   "outputs": [
    {
     "data": {
      "text/plain": [
       "'wide orange'"
      ]
     },
     "execution_count": 90,
     "metadata": {},
     "output_type": "execute_result"
    }
   ],
   "source": [
    "duck.bill"
   ]
  },
  {
   "cell_type": "code",
   "execution_count": 91,
   "metadata": {},
   "outputs": [
    {
     "data": {
      "text/plain": [
       "'long'"
      ]
     },
     "execution_count": 91,
     "metadata": {},
     "output_type": "execute_result"
    }
   ],
   "source": [
    "duck.tail"
   ]
  },
  {
   "cell_type": "code",
   "execution_count": 92,
   "metadata": {},
   "outputs": [],
   "source": [
    "parts = {'bill': 'wide orange','tail':'long'}\n",
    "duck2 = Duck(**parts)  #收集關鍵字引數製作具名tuple"
   ]
  },
  {
   "cell_type": "code",
   "execution_count": 93,
   "metadata": {},
   "outputs": [
    {
     "data": {
      "text/plain": [
       "Duck(bill='wide orange', tail='long')"
      ]
     },
     "execution_count": 93,
     "metadata": {},
     "output_type": "execute_result"
    }
   ],
   "source": [
    "duck2"
   ]
  },
  {
   "cell_type": "code",
   "execution_count": 94,
   "metadata": {},
   "outputs": [],
   "source": [
    "#具名tuple就像其他的tuple一樣是不可變的 但可以透過replace替換掉原本的值 並傳給其他變數\n",
    "#或是直接重新製造一個變數\n",
    "duck2 = duck2._replace(tail = 'magnificient')"
   ]
  },
  {
   "cell_type": "code",
   "execution_count": 95,
   "metadata": {},
   "outputs": [
    {
     "data": {
      "text/plain": [
       "Duck(bill='wide orange', tail='bagnificient')"
      ]
     },
     "execution_count": 95,
     "metadata": {},
     "output_type": "execute_result"
    }
   ],
   "source": [
    "duck2"
   ]
  },
  {
   "cell_type": "code",
   "execution_count": 96,
   "metadata": {},
   "outputs": [],
   "source": [
    "duck_dict = {'bill':'wide orange','tail':'long'} \n",
    "#或是製作字典 好處是你可以很方便增加屬性進去"
   ]
  },
  {
   "cell_type": "code",
   "execution_count": 97,
   "metadata": {},
   "outputs": [
    {
     "data": {
      "text/plain": [
       "{'bill': 'wide orange', 'tail': 'long'}"
      ]
     },
     "execution_count": 97,
     "metadata": {},
     "output_type": "execute_result"
    }
   ],
   "source": [
    "duck_dict"
   ]
  },
  {
   "cell_type": "code",
   "execution_count": 98,
   "metadata": {},
   "outputs": [],
   "source": [
    "duck_dict['color'] = 'green'"
   ]
  },
  {
   "cell_type": "markdown",
   "metadata": {},
   "source": [
    "#### 具名tuple的優點\n",
    "* 外觀和行為都像是不可變物件\n",
    "* 比物件更節省空間和時間\n",
    "* 可以不用字典的方括號就存取屬性\n",
    "* 可以將他當作字典鍵來使用"
   ]
  }
 ],
 "metadata": {
  "kernelspec": {
   "display_name": "Python 3",
   "language": "python",
   "name": "python3"
  },
  "language_info": {
   "codemirror_mode": {
    "name": "ipython",
    "version": 3
   },
   "file_extension": ".py",
   "mimetype": "text/x-python",
   "name": "python",
   "nbconvert_exporter": "python",
   "pygments_lexer": "ipython3",
   "version": "3.7.1"
  }
 },
 "nbformat": 4,
 "nbformat_minor": 2
}
