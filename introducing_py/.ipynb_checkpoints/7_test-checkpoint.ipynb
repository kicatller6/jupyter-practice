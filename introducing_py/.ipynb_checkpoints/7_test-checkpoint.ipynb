{
 "cells": [
  {
   "cell_type": "code",
   "execution_count": 4,
   "metadata": {},
   "outputs": [
    {
     "name": "stdout",
     "output_type": "stream",
     "text": [
      "PILE OF POO 💩\n"
     ]
    }
   ],
   "source": [
    "#7.1\n",
    "import unicodedata\n",
    "mystery = '\\U0001f4a9'\n",
    "print(unicodedata.name(mystery),mystery)"
   ]
  },
  {
   "cell_type": "code",
   "execution_count": 6,
   "metadata": {},
   "outputs": [
    {
     "name": "stdout",
     "output_type": "stream",
     "text": [
      "b'\\xf0\\x9f\\x92\\xa9'\n"
     ]
    }
   ],
   "source": [
    "#7.2\n",
    "pop_bytes = mystery.encode('UTF-8')\n",
    "print(pop_bytes)"
   ]
  },
  {
   "cell_type": "code",
   "execution_count": 8,
   "metadata": {},
   "outputs": [
    {
     "name": "stdout",
     "output_type": "stream",
     "text": [
      "💩\n"
     ]
    },
    {
     "data": {
      "text/plain": [
       "True"
      ]
     },
     "execution_count": 8,
     "metadata": {},
     "output_type": "execute_result"
    }
   ],
   "source": [
    "#7.3\n",
    "pop_string = pop_bytes.decode('UTF-8')\n",
    "print(pop_string)\n",
    "pop_string == mystery"
   ]
  },
  {
   "cell_type": "code",
   "execution_count": 10,
   "metadata": {},
   "outputs": [
    {
     "name": "stdout",
     "output_type": "stream",
     "text": [
      "My kitty cat likes roast beef,\n",
      "My kitty cat likes ham,\n",
      "My kitty cat fell on his head\n",
      "And now thinks he's a calm.\n"
     ]
    }
   ],
   "source": [
    "#7.4\n",
    "print('''My kitty cat likes %s,\n",
    "My kitty cat likes %s,\n",
    "My kitty cat fell on his %s\n",
    "And now thinks he\\'s a %s.'''\n",
    "      %('roast beef','ham','head','calm'))"
   ]
  },
  {
   "cell_type": "code",
   "execution_count": 15,
   "metadata": {},
   "outputs": [
    {
     "data": {
      "text/plain": [
       "'Dear{salutation}{name},\\n\\nThank you dor your letter. We are sorry for that our {product}{verbed}in your\\n{room}. Please note that it should never be used in a {room}, especially\\nnear any {animals}.\\n\\nSend us your receipt and {amount} for shipping and handling. We will aend\\nyou another {product} that, in out tests, is {percent} %less likely to\\nhave {verbed}.\\n\\nThank you for your support.\\n\\nSincerely,\\n{spokeman}\\n{job_title}'"
      ]
     },
     "execution_count": 15,
     "metadata": {},
     "output_type": "execute_result"
    }
   ],
   "source": [
    "#7.5\n",
    "letter = '''Dear{salutation}{name},\n",
    "\n",
    "Thank you dor your letter. We are sorry for that our {product}{verbed}in your\n",
    "{room}. Please note that it should never be used in a {room}, especially\n",
    "near any {animals}.\n",
    "\n",
    "Send us your receipt and {amount} for shipping and handling. We will aend\n",
    "you another {product} that, in out tests, is {percent} %less likely to\n",
    "have {verbed}.\n",
    "\n",
    "Thank you for your support.\n",
    "\n",
    "Sincerely,\n",
    "{spokeman}\n",
    "{job_title}'''\n",
    "letter"
   ]
  },
  {
   "cell_type": "code",
   "execution_count": 16,
   "metadata": {},
   "outputs": [
    {
     "name": "stdout",
     "output_type": "stream",
     "text": [
      "Dearsalutationname,\n",
      "\n",
      "Thank you dor your letter. We are sorry for that our productverbedin your\n",
      "room. Please note that it should never be used in a room, especially\n",
      "near any animals.\n",
      "\n",
      "Send us your receipt and amount for shipping and handling. We will aend\n",
      "you another product that, in out tests, is percent %less likely to\n",
      "have verbed.\n",
      "\n",
      "Thank you for your support.\n",
      "\n",
      "Sincerely,\n",
      "spokeman\n",
      "job_title\n"
     ]
    }
   ],
   "source": [
    "#7.6\n",
    "response = {'salutation':'salutation',\n",
    "           'name':'name','product':'product','verbed':'verbed','room':'room','animals':'animals',\n",
    "           'amount':'amount','percent':'percent','spokeman':'spokeman','job_title':'job_title'}\n",
    "print(letter.format(**response))"
   ]
  },
  {
   "cell_type": "code",
   "execution_count": 17,
   "metadata": {},
   "outputs": [],
   "source": [
    "#7.7\n",
    "mammoth = '''We have seen thee, queen of cheese,\n",
    "Lying quietly at your ease,\n",
    "Gently fanned by evening breeze,\n",
    "Thy fair form no flies dare seize.\n",
    "\n",
    "All gaily dressed soon you'll go\n",
    "To the great Provincial show,\n",
    "To be admired by many a beau\n",
    "In the city of Toronto.\n",
    "\n",
    "Cows numerous as a swarm of bees,\n",
    "Or as the leaves upon the trees,\n",
    "It did require to make thee please,\n",
    "And stand unrivalled, queen of cheese.\n",
    "\n",
    "May you not receive a scar as\n",
    "We have heard that Mr. Harris\n",
    "Intends to send you off as far as\n",
    "The great world's show at Paris.\n",
    "\n",
    "Of the youth beware of these,\n",
    "For some of them might rudely squeeze\n",
    "And bite your cheek, then songs or glees\n",
    "We could not sing, oh! queen of cheese.\n",
    "\n",
    "We'rt thou suspended from balloon,\n",
    "You'd cast a shade even at noon,\n",
    "Folks would think it was the moon\n",
    "About to fall and crush them soon.'''\n"
   ]
  },
  {
   "cell_type": "code",
   "execution_count": 36,
   "metadata": {},
   "outputs": [
    {
     "name": "stdout",
     "output_type": "stream",
     "text": [
      "['cheese', 'city', 'cheese', 'cheek', 'could', 'cheese', 'cast', 'crush']\n"
     ]
    }
   ],
   "source": [
    "#7.8\n",
    "import re\n",
    "pat = r'\\bc\\w*' \n",
    "print(re.findall(pat,mammoth))"
   ]
  },
  {
   "cell_type": "code",
   "execution_count": 49,
   "metadata": {},
   "outputs": [
    {
     "name": "stdout",
     "output_type": "stream",
     "text": [
      "['city', 'cast']\n"
     ]
    }
   ],
   "source": [
    "#7.9\n",
    "pat = r'\\bc\\w{3}\\b'\n",
    "print(re.findall(pat,mammoth))"
   ]
  },
  {
   "cell_type": "code",
   "execution_count": 54,
   "metadata": {},
   "outputs": [
    {
     "name": "stdout",
     "output_type": "stream",
     "text": [
      "['your', 'fair', 'Or', 'scar', 'Mr', 'far', 'For', 'your', 'or']\n",
      "['All', \"you'll\", 'Provincial', 'fall']\n"
     ]
    }
   ],
   "source": [
    "#7.10\n",
    "pat = r'\\b\\w*r\\b'\n",
    "print(re.findall(pat,mammoth))\n",
    "\n",
    "pat = r'\\b[\\w\\']*l\\b'\n",
    "print(re.findall(pat,mammoth))"
   ]
  },
  {
   "cell_type": "code",
   "execution_count": 59,
   "metadata": {},
   "outputs": [
    {
     "name": "stdout",
     "output_type": "stream",
     "text": [
      "['queen', 'quietly', 'beau', 'queen', 'squeeze', 'queen']\n"
     ]
    }
   ],
   "source": [
    "#7.11\n",
    "pat = r'\\b\\w*[aeiou]{3}[^aeiou\\s]*\\w*\\b'\n",
    "print(re.findall(pat,mammoth))"
   ]
  },
  {
   "cell_type": "code",
   "execution_count": 70,
   "metadata": {},
   "outputs": [
    {
     "name": "stdout",
     "output_type": "stream",
     "text": [
      "b'GIF89a\\x01\\x00\\x01\\x00\\x80\\x00\\x00\\x00\\x00\\x00\\xff\\xff\\xff!\\xf9\\x04\\x01\\x00\\x00\\x00\\x00,\\x00\\x00\\x00\\x00\\x01\\x00\\x01\\x00\\x00\\x02\\x01D\\x00;'\n"
     ]
    }
   ],
   "source": [
    "#7.12\n",
    "import binascii\n",
    "hex_str = '47494638396101000100800000000000ffffff21f90401000000002c000000000100010000020144003b' \n",
    "gif = binascii.unhexlify(hex_str)\n",
    "print(gif)"
   ]
  },
  {
   "cell_type": "code",
   "execution_count": 71,
   "metadata": {},
   "outputs": [
    {
     "data": {
      "text/plain": [
       "True"
      ]
     },
     "execution_count": 71,
     "metadata": {},
     "output_type": "execute_result"
    }
   ],
   "source": [
    "#7.13\n",
    "gif[:6] == b'GIF89a'  #比較bytes 和bytes"
   ]
  },
  {
   "cell_type": "code",
   "execution_count": 72,
   "metadata": {},
   "outputs": [
    {
     "data": {
      "text/plain": [
       "(1, 1)"
      ]
     },
     "execution_count": 72,
     "metadata": {},
     "output_type": "execute_result"
    }
   ],
   "source": [
    "#7.14\n",
    "import struct\n",
    "width,height = struct.unpack('<HH',gif[6:10])\n",
    "width,height"
   ]
  },
  {
   "cell_type": "code",
   "execution_count": null,
   "metadata": {},
   "outputs": [],
   "source": []
  }
 ],
 "metadata": {
  "kernelspec": {
   "display_name": "Python 3",
   "language": "python",
   "name": "python3"
  },
  "language_info": {
   "codemirror_mode": {
    "name": "ipython",
    "version": 3
   },
   "file_extension": ".py",
   "mimetype": "text/x-python",
   "name": "python",
   "nbconvert_exporter": "python",
   "pygments_lexer": "ipython3",
   "version": "3.7.1"
  }
 },
 "nbformat": 4,
 "nbformat_minor": 2
}
